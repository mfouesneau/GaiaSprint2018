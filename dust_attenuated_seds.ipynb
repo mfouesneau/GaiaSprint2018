{
 "cells": [
  {
   "cell_type": "markdown",
   "metadata": {},
   "source": [
    "# Gaia Sprint 2018: Making a dust attenuated SED from scratch."
   ]
  },
  {
   "cell_type": "markdown",
   "metadata": {},
   "source": [
    "## A little background\n",
    "\n",
    "The physics of a star's intrinsic SED can be described by a combination of stellar atmosphere and stellar evolutionary models.\n",
    "\n",
    "Additionally, we must also account for the fact that as photons travel from the star to the observer, some photons will be absorbed by the dust along the line of sight. This not only dims the star light similarly to distance but also changes its apparent color, making the star appear redder. The wavelength-dependence of the extinction from the ultra-violet (UV) to the near infrared (NIR) has been studied and modeled in multiple galaxies.  \n",
    "\n",
    "The observations show a wide range of dust column normalized extinction curves, which are commonly characterized as a wavelength dependent flux attenuation\n",
    "\n",
    "\\begin{equation}\n",
    "  \\tau_\\lambda = A(\\lambda)/A_0 = f(\\lambda; A_0, R_0),\n",
    "\\end{equation}\n",
    "\n",
    "Finally, the apparent wavelength dependent light observed from a star at distance $r$ sets as\n",
    "\\begin{equation}\n",
    "  l_{\\lambda}(\\theta) = \\frac{L_{bol}(\\theta)}{4\\pi\n",
    "  r^2}\\,S_{\\lambda}(\\theta)\\, e^{-0.4\\,A_0\\,\\tau_\\lambda},\n",
    "  \\label{eq:modelsed}\n",
    "\\end{equation}\n",
    "where $\\theta$ represents the astrophysical parameters of that star."
   ]
  },
  {
   "cell_type": "markdown",
   "metadata": {},
   "source": [
    "## requirements:\n",
    "\n",
    "* some **isochrones**, e.g.\n",
    "    * _PARSEC_ ([ezpadova](https://github.com/mfouesneau/ezpadova)), \n",
    "    * _MESA/MIST_ ([ezmist](https://github.com/mfouesneau/ezmist)), \n",
    "    * _Dartmouth_ ([ezdart](https://github.com/mfouesneau/ezdart))\n",
    "\n",
    "* some **spectral libraries**, e.g. [pystellibs](https://github.com/mfouesneau/pystellibs), \n",
    "    * _BaSeL_: BaSeL 2.2, ~ Atlas 9 empirically recalibrated (Leujeune et al 1998)\n",
    "    * _Rauch_: a White dwarf library\n",
    "    * _Kurucz_: Castelli and Kurucz 2004 or ATLAS9\n",
    "    * _Tlusty_: NLTE O, B stars [Lanz, T., & Hubeny, I. (2003)]\n",
    "    * _Elodie_: version 3.1, high resolution optical library.\n",
    "    * _Munari_: extended ATLAS9 stellar atmospheres (Munari et al. 2005 A&A 442 1127)\n",
    "    * _BTSettl_: BT-Settl Library (Allard, Hauschildt and Schweitzer 2000)\n",
    "    \n",
    "* some **dust attenuation curves**, e.g. [pyextinction](https://github.com/mfouesneau/pyextinction)\n",
    "    * _Cardelli_, Cardelli, Clayton, and Mathis (1989, ApJ, 345, 245)\n",
    "    * _Calzetti_, Calzetti et al. (2000, ApJ 533, 682)\n",
    "    * _Fitzpatrick_, Fitzpatrick (1999, PASP, 111, 63)\n",
    "    * _Gordon03 SMCBar_, Gordon et al. 2003 (ApJ, 594:279-293)\n",
    "\n",
    "* some passbands and tools to compute **photometry**, e.g. [pyphot](https://github.com/mfouesneau/pyphot)\n",
    "    * 243 passbands and 49 spectral indices definitions\n",
    "    * provides _nominal_ (Jordi+2010), _GDR2_ and _revised_ (Evans+2018), and _Weiler_ (Weiler 2018) Gaia passbands.\n",
    "    * can handle custom user provided passbands."
   ]
  },
  {
   "cell_type": "markdown",
   "metadata": {},
   "source": [
    "## notebook configuration"
   ]
  },
  {
   "cell_type": "code",
   "execution_count": 2,
   "metadata": {},
   "outputs": [
    {
     "name": "stdout",
     "output_type": "stream",
     "text": [
      "Populating the interactive namespace from numpy and matplotlib\n"
     ]
    },
    {
     "name": "stderr",
     "output_type": "stream",
     "text": [
      "/Users/fouesneau/anaconda/lib/python3.6/site-packages/IPython/core/magics/pylab.py:160: UserWarning: pylab import has clobbered these variables: ['plt']\n",
      "`%matplotlib` prevents importing * from pylab and numpy\n",
      "  \"\\n`%matplotlib` prevents importing * from pylab and numpy\"\n"
     ]
    }
   ],
   "source": [
    "# Loading configuration\n",
    "# Don't forget that mac has this annoying configuration that leads\n",
    "# to limited number of figures/files\n",
    "# ulimit -n 4096    <---- osx limits to 256\n",
    "\n",
    "# Notebook matplotlib mode\n",
    "%pylab inline                                 \n",
    "# set for retina or hi-resolution displays\n",
    "%config InlineBackend.figure_format='retina'  "
   ]
  },
  {
   "cell_type": "markdown",
   "metadata": {},
   "source": [
    "## imports"
   ]
  },
  {
   "cell_type": "code",
   "execution_count": 3,
   "metadata": {},
   "outputs": [],
   "source": [
    "import pylab as plt\n",
    "import numpy as np\n",
    "from ezdata import SimpleTable\n",
    "\n",
    "import ezmist\n",
    "import pyextinction\n",
    "import pystellibs\n",
    "import pyphot\n",
    "from pyphot import unit   # these are NOT astropy"
   ]
  },
  {
   "cell_type": "markdown",
   "metadata": {},
   "source": [
    "## Get stellar parameter grid\n",
    "\n",
    "In this example, we download the standard set of isochrones from MESA/MIST. It is basically a solar metallicity grid of isochrones.\n",
    "We filter out pre-MS, TPAGB, and WD phase to match the reliability of the spectral models we use below. \n",
    "(one can combine spectral libraries to include all the phases)."
   ]
  },
  {
   "cell_type": "code",
   "execution_count": null,
   "metadata": {},
   "outputs": [],
   "source": [
    "iso = ezmist.get_standard_isochrone()\n",
    "iso = iso.selectWhere('*', '(phase >= 0) & (phase < 6)')  # get rid of PMS and TP-AGB & WD\n",
    "Z = np.array([0.0145] * len(iso))\n",
    "iso.add_column(\"Z\", Z, dtype=float, description='metallicity')\n",
    "iso.data['Z'] = 0.0145   # sometimes there is a bug... this should not be necessary.\n",
    "iso.set_alias('logT', 'log_Teff')\n",
    "iso.set_alias('logL', 'log_L')"
   ]
  },
  {
   "cell_type": "markdown",
   "metadata": {},
   "source": [
    "## Generate interpolated spectral grid"
   ]
  },
  {
   "cell_type": "markdown",
   "metadata": {},
   "source": [
    "For every star in our astrophysical parameter grid (isochrone set defined above), we need to compute an associated spectrum that covers the wavelength range of interest.\n",
    "Below I use `BaSeL` but any other library will work and even combined with others (e.g. `lib = BaSeL() + Rauch()`)"
   ]
  },
  {
   "cell_type": "code",
   "execution_count": null,
   "metadata": {},
   "outputs": [],
   "source": [
    "lib = pystellibs.BaSeL()\n",
    "# check coverage\n",
    "points = np.array([iso['logT'], iso['logg']])\n",
    "select = lib.points_inside(points.T)\n",
    "# make the right names: logT, logg, logL, Z, must exist\n",
    "# SimpleTable offers aliases\n",
    "pars = SimpleTable(iso)   ## just to make a clear name\n",
    "pars.pars = pars.pars[select]\n",
    "pars.set_alias('logT', 'log_Teff')\n",
    "pars.set_alias('logL', 'log_L')\n",
    "pars.set_alias('logg', 'log_g')\n",
    "pars.set_alias('mass', 'initial_mass')\n",
    "pars.set_alias('logA', 'log10_isochrone_age_yr')\n",
    "wave, specs = lib.generate_individual_spectra(pars)"
   ]
  },
  {
   "cell_type": "markdown",
   "metadata": {},
   "source": [
    "## Get some photometric passbands\n",
    "\n",
    "At this step one can define their own photometric interest. Filters will be generated and adapted to the spectral sampling of our grid, and zeropoints will be provided as well to calibrate the photometry.\n",
    "\n",
    "Below I request GALEX, GAIA, JOHNSON, SDSS, 2MASS and WISE passbands. (to find the names in the library one can use `lib.find`)"
   ]
  },
  {
   "cell_type": "code",
   "execution_count": null,
   "metadata": {},
   "outputs": [],
   "source": [
    "import itertools\n",
    "\n",
    "# select phot. filters\n",
    "galex_names = 'GALEX_FUV GALEX_NUV'.split()\n",
    "gaia_names = ['GaiaDR2_BP', 'GaiaDR2_G', 'GaiaDR2_RP']\n",
    "johnson_names = ('GROUND_JOHNSON_U GROUND_JOHNSON_B GROUND_JOHNSON_V'.split()\n",
    "                 + 'GROUND_COUSINS_R GROUND_COUSINS_I'.split())\n",
    "sdss_names = 'SDSS_u SDSS_g SDSS_r SDSS_i SDSS_z'.split()\n",
    "twomass_names = '2MASS_J 2MASS_H 2MASS_Ks'.split()\n",
    "wise_names = 'WISE_RSR_W1 WISE_RSR_W2'.split()\n",
    "\n",
    "names = tuple(itertools.chain(galex_names, gaia_names, johnson_names, sdss_names,\n",
    "                              twomass_names, wise_names))\n",
    "\n",
    "with pyphot.get_library() as lib:\n",
    "    flist = lib.load_filters(names, lamb=wave)\n",
    "\n",
    "# Compute the magnitude zero points ==============\n",
    "# some surveys uses AB mag others Vega\n",
    "use_AB = 'GALEX', 'SDSS'\n",
    "\n",
    "zpts = []\n",
    "for fk in flist:\n",
    "    if fk.name.split('_')[0] in use_AB:\n",
    "        zpts.append(fk.AB_zero_mag)\n",
    "    else:\n",
    "        zpts.append(fk.Vega_zero_mag)\n",
    "\n",
    "zpts = np.array(zpts)"
   ]
  },
  {
   "cell_type": "markdown",
   "metadata": {},
   "source": [
    "for a short summary, I print below the photometric parameters"
   ]
  },
  {
   "cell_type": "code",
   "execution_count": null,
   "metadata": {},
   "outputs": [],
   "source": [
    "table_rows = [(\"name\", \"zpt\", \"mag\", \"system\")]\n",
    "\n",
    "print(\"    Photometric magnitude zeropoints\\n\")\n",
    "print(\"    {0:18s} {1:7s} {2:7s} {3:7s} \".format(\"name\", \"zpt\", \"mag\", \"system\"))\n",
    "print(\"   \", \"-\" * 18, \"-\" * 7, \"-\" * 7, \"-\" * 7)\n",
    "for fk, val in zip(flist, zpts):\n",
    "    if fk.name.split('_')[0] in use_AB:\n",
    "        table_rows.append((fk.name, val, \"ABmag\", fk.dtype))\n",
    "        print(\"    {0:18s} {1:0.4f} {2:7s} {3:s} \".format(fk.name, val, \"ABmag\", fk.dtype))\n",
    "    else:\n",
    "        table_rows.append((fk.name, val, \"Vegamag\", fk.dtype))\n",
    "        print(\"    {0:18s} {1:0.4f} {2:7s} {3:s}\".format(fk.name, val, \"Vegamag\", fk.dtype))\n",
    "print(\"   \", \"-\" * 18, \"-\" * 7, \"-\" * 7, \"-\" * 7)"
   ]
  },
  {
   "cell_type": "markdown",
   "metadata": {},
   "source": [
    "## Compute dust attenuated spectra & photometry\n",
    "\n",
    "At this stage, we have the APs, the spectra and the passbands. We need to first apply a dust attenuation curve on the spectra and then apply the photometric filters."
   ]
  },
  {
   "cell_type": "markdown",
   "metadata": {},
   "source": [
    "### Apply dust to the spectra"
   ]
  },
  {
   "cell_type": "code",
   "execution_count": null,
   "metadata": {},
   "outputs": [],
   "source": [
    "# select extinction\n",
    "l = pyextinction.Fitzpatrick99()\n",
    "A0 = 3     ## magnitudes\n",
    "R0 = 3.1   ## unitless\n",
    "\n",
    "N = len(pars)\n",
    "## split values and units\n",
    "_specs = specs.magnitude        \n",
    "_unit = unit[str(specs.units)]  \n",
    "Dlambda = np.exp(-1 * l.function(wave, Av=A0, Rv=R0))\n",
    "_s = _specs * Dlambda[None, :]\n",
    "\n",
    "# export new parameter (making a copy)\n",
    "_p = SimpleTable(pars, copy=True)\n",
    "_p.add_column('A0', np.ones(N) * A0, unit='mag', description='Extinction')\n",
    "dust_specs = _s * _unit\n",
    "dust_pars = _p"
   ]
  },
  {
   "cell_type": "markdown",
   "metadata": {},
   "source": [
    "### Compute photometry\n",
    "\n",
    "The following will integrate the flux of the spectra through many passbands (defined above) and calibrate them to be absolute magnitudes (i.e. at 10 pc).\n",
    "The zeropoints contain the information on which passband uses AB system."
   ]
  },
  {
   "cell_type": "code",
   "execution_count": null,
   "metadata": {},
   "outputs": [],
   "source": [
    "_, fluxes = pyphot.extractSEDs(wave, dust_specs.magnitude, flist, absFlux=True, progress=True)\n",
    "mags = -2.5 * np.log10(fluxes) - zpts"
   ]
  }
 ],
 "metadata": {
  "kernelspec": {
   "display_name": "Python 3",
   "language": "python",
   "name": "python3"
  },
  "language_info": {
   "codemirror_mode": {
    "name": "ipython",
    "version": 3
   },
   "file_extension": ".py",
   "mimetype": "text/x-python",
   "name": "python",
   "nbconvert_exporter": "python",
   "pygments_lexer": "ipython3",
   "version": "3.6.2"
  },
  "latex_envs": {
   "LaTeX_envs_menu_present": true,
   "autocomplete": true,
   "bibliofile": "biblio.bib",
   "cite_by": "apalike",
   "current_citInitial": 1,
   "eqLabelWithNumbers": true,
   "eqNumInitial": 1,
   "hotkeys": {
    "equation": "Ctrl-E",
    "itemize": "Ctrl-I"
   },
   "labels_anchors": false,
   "latex_user_defs": false,
   "report_style_numbering": false,
   "user_envs_cfg": false
  }
 },
 "nbformat": 4,
 "nbformat_minor": 2
}
